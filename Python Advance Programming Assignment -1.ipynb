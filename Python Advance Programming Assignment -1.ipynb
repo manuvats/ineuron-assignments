{
 "cells": [
  {
   "cell_type": "markdown",
   "metadata": {},
   "source": [
    "# Python Advance Programming Assignment - 1"
   ]
  },
  {
   "cell_type": "markdown",
   "metadata": {},
   "source": [
    "### Problem 1"
   ]
  },
  {
   "cell_type": "code",
   "execution_count": 34,
   "metadata": {},
   "outputs": [
    {
     "name": "stdout",
     "output_type": "stream",
     "text": [
      "Enter number of lists to be created: 2\n",
      "Enter the symbols for the list number 1: # X \n",
      "Enter the symbols for the list number 2: O #\n",
      "14\n"
     ]
    },
    {
     "data": {
      "text/plain": [
       "[[5, 1], [3, 5]]"
      ]
     },
     "execution_count": 34,
     "metadata": {},
     "output_type": "execute_result"
    }
   ],
   "source": [
    "# Take the number of lists to be created as input\n",
    "ListCount = int(input(\"Enter number of lists to be created: \"))\n",
    "\n",
    "# Create an empty list\n",
    "SymbolsList = []\n",
    "\n",
    "# Loop to create a nested list with the symbols being input by the user  \n",
    "i=1\n",
    "while i<=ListCount:\n",
    "    SymbolsList.append(list(map(str, input(\"Enter the symbols for the list number \" + str(i) + \": \" ).split())))\n",
    "    i=i+1\n",
    "\n",
    "# Dictionary of symbols with their values    \n",
    "Symbols  =  {\n",
    "    '#': 5,\n",
    "    'O': 3,\n",
    "    'X': 1,\n",
    "    '!':-1,\n",
    "    '!!':-2,\n",
    "    '!!!':-5\n",
    "}\n",
    "    \n",
    "# Loop to replace symbols by their values in the list of symbols entered by the user    \n",
    "new_list = []\n",
    "for sub_list in SymbolsList:\n",
    "    new_list.append([])\n",
    "    for item in sub_list:\n",
    "        if item in Symbols:\n",
    "            new_list[-1].append(Symbols[item])\n",
    "        else:\n",
    "            print(\"Wrong symbol entered -- \" + item)\n",
    "SymbolsList = new_list\n",
    " \n",
    "# Function to sum the values of the nested list\n",
    "def sum_nestedlist(lst):\n",
    "    total = 0\n",
    "    for element in lst:\n",
    "        if type(element) == type([]):\n",
    "            total = total + sum_nestedlist(element)\n",
    "        else:\n",
    "            total = total + element  \n",
    "    return total\n",
    "\n",
    "listsum = sum_nestedlist(SymbolsList)\n",
    "if listsum<0:\n",
    "    print (0)\n",
    "else:\n",
    "    print(listsum)\n",
    "\n",
    "SymbolsList"
   ]
  },
  {
   "cell_type": "markdown",
   "metadata": {},
   "source": [
    "### Problem 2"
   ]
  },
  {
   "cell_type": "code",
   "execution_count": 3,
   "metadata": {},
   "outputs": [
    {
     "name": "stdout",
     "output_type": "stream",
     "text": [
      "Enter items' arguments: 2 5 8 10 2\n"
     ]
    },
    {
     "data": {
      "text/plain": [
       "'Total 1600 combinations possible'"
      ]
     },
     "execution_count": 3,
     "metadata": {},
     "output_type": "execute_result"
    }
   ],
   "source": [
    "# Function to find out total number of combinations of the given arguments\n",
    "def combinations(args):\n",
    "    product = 1\n",
    "    for num in range(0, len(args)):\n",
    "        product = product * args[num]\n",
    "    return \"Total \"+str(product)+\" combinations possible\" \n",
    "    \n",
    "argsList = list(map(int, input(\"Enter items' arguments: \").split()))\n",
    "combinations(argsList)"
   ]
  },
  {
   "cell_type": "markdown",
   "metadata": {},
   "source": [
    "### Problem 3"
   ]
  },
  {
   "cell_type": "code",
   "execution_count": 12,
   "metadata": {},
   "outputs": [
    {
     "name": "stdout",
     "output_type": "stream",
     "text": [
      "Enter a string: EDABBIT CHALLENGE\n",
      ". -.. .- -... -... .. -   -.-. .... .- .-.. .-.. . -. --. .\n"
     ]
    }
   ],
   "source": [
    "# Function to replace letter by its morse code\n",
    "def encode_morse(d, s):\n",
    "    charlist = list(s)\n",
    "    for i,j in enumerate(charlist):\n",
    "        if j in char_to_dots:\n",
    "            charlist[i]=char_to_dots[j]\n",
    "    return print(\" \".join(charlist))\n",
    "\n",
    "#Dictionary of morse codes\n",
    "char_to_dots = {\n",
    "'A': '.-', 'B': '-...', 'C': '-.-.', 'D': '-..', 'E': '.', 'F': '..-.',\n",
    "'G': '--.', 'H': '....', 'I': '..', 'J': '.---', 'K': '-.-', 'L': '.-..',\n",
    "'M': '--', 'N': '-.', 'O': '---', 'P': '.--.', 'Q': '--.-', 'R': '.-.',\n",
    "'S': '...', 'T': '-', 'U': '..-', 'V': '...-', 'W': '.--', 'X': '-..-',\n",
    "'Y': '-.--', 'Z': '--..', ' ': ' ', '0': '-----',\n",
    "'1': '.----', '2': '..---', '3': '...--', '4': '....-', '5': '.....',\n",
    "'6': '-....', '7': '--...', '8': '---..', '9': '----.',\n",
    "'&': '.-...', '\"\"': '.----.', '@': '.--.-.', ')': '-.--.-', '(': '-.--.',\n",
    "':': '---...', ',': '--..--', '=': '-...-', '!': '-.-.--', '.': '.-.-.-',\n",
    "'-': '-....-', '+': '.-.-.', '\"': '.-..-.', '?': '..--..', '/': '-..-.'\n",
    "}\n",
    "\n",
    "stringArg = str(input(\"Enter a string: \"))\n",
    "\n",
    "encode_morse(char_to_dots, stringArg)"
   ]
  },
  {
   "cell_type": "markdown",
   "metadata": {},
   "source": [
    "### Problem 4"
   ]
  },
  {
   "cell_type": "code",
   "execution_count": 4,
   "metadata": {},
   "outputs": [
    {
     "name": "stdout",
     "output_type": "stream",
     "text": [
      "Enter a number: 97\n",
      "97 is prime\n"
     ]
    }
   ],
   "source": [
    "def prime(num):\n",
    "    for i in range(2, int(num/2),1): #It is enough to check the divisibility upto the half of the number \n",
    "        if num % i == 0: #Checking the modulus of the number \n",
    "            return print(str(num) + \" is not prime\")\n",
    "            break\n",
    "        else:\n",
    "            continue\n",
    "    else:\n",
    "        return print(str(num) + \" is prime\")\n",
    "                \n",
    "number = int(input(\"Enter a number: \"))\n",
    "\n",
    "prime(number)"
   ]
  },
  {
   "cell_type": "markdown",
   "metadata": {},
   "source": [
    "### Problem 5"
   ]
  },
  {
   "cell_type": "code",
   "execution_count": 35,
   "metadata": {},
   "outputs": [
    {
     "name": "stdout",
     "output_type": "stream",
     "text": [
      "Enter a word: great\n",
      "[False, True, False, False, True]\n"
     ]
    }
   ],
   "source": [
    "from string import ascii_lowercase\n",
    "\n",
    "# Create a dictionary of alphabets\n",
    "Letters = {letter: int(index) for index, letter in enumerate(ascii_lowercase, start=1)} \n",
    "\n",
    "#Replacing integer values with boolean values in the dictionary\n",
    "for key in Letters.keys():\n",
    "    if Letters[key]%2==0:\n",
    "        Letters[key] = True\n",
    "    else:\n",
    "        Letters[key] = False\n",
    "\n",
    "# Function to convert the letters of a word to boolean values\n",
    "def to_boolean_list(d, s):\n",
    "    charlist = list(s.lower())\n",
    "    for i,j in enumerate(charlist):\n",
    "        if j in Letters:\n",
    "            charlist[i]=Letters[j]\n",
    "    return print(charlist)\n",
    "\n",
    "word = str(input(\"Enter a word: \"))\n",
    "\n",
    "to_boolean_list(Letters, word)"
   ]
  }
 ],
 "metadata": {
  "kernelspec": {
   "display_name": "Python 3",
   "language": "python",
   "name": "python3"
  },
  "language_info": {
   "codemirror_mode": {
    "name": "ipython",
    "version": 3
   },
   "file_extension": ".py",
   "mimetype": "text/x-python",
   "name": "python",
   "nbconvert_exporter": "python",
   "pygments_lexer": "ipython3",
   "version": "3.8.5"
  }
 },
 "nbformat": 4,
 "nbformat_minor": 4
}
