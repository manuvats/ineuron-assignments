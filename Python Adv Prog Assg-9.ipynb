{
 "cells": [
  {
   "cell_type": "markdown",
   "metadata": {},
   "source": [
    "# Python Advance Programming Assignment - 9"
   ]
  },
  {
   "cell_type": "markdown",
   "metadata": {},
   "source": [
    "### Problem 1"
   ]
  },
  {
   "cell_type": "code",
   "execution_count": 48,
   "metadata": {},
   "outputs": [
    {
     "name": "stdout",
     "output_type": "stream",
     "text": [
      "['01', '20', '00']\n"
     ]
    },
    {
     "data": {
      "text/plain": [
       "'00:53:20'"
      ]
     },
     "execution_count": 48,
     "metadata": {},
     "output_type": "execute_result"
    }
   ],
   "source": [
    "from datetime import time\n",
    "def playback_duration(actualduration, speed):\n",
    "    \n",
    "    #Splitting the given time value in string by ':' and storing it into list\n",
    "    time_comp = actualduration.split(\":\")\n",
    "    \n",
    "    # Converting time value into seconds for calculation\n",
    "    seconds = int(time_comp[0])*3600 + int(time_comp[1])*60 + int(time_comp[2])\n",
    "    \n",
    "    # Dividing the duration by speed\n",
    "    seconds = seconds/speed\n",
    "    \n",
    "    # Calculating hours, minutes and seconds of new time and converting into time format\n",
    "    h = int(seconds//3600)\n",
    "    m = int((seconds-h*3600)//60)\n",
    "    s = int(seconds - h*3600 - m*60)\n",
    "    result = time(h, m, s ) \n",
    "    \n",
    "    return str(result)\n",
    "\n",
    "playback_duration(\"01:20:00\",1.5)"
   ]
  },
  {
   "cell_type": "markdown",
   "metadata": {},
   "source": [
    "### Problem 2"
   ]
  },
  {
   "cell_type": "code",
   "execution_count": 54,
   "metadata": {},
   "outputs": [
    {
     "data": {
      "text/plain": [
       "2022"
      ]
     },
     "execution_count": 54,
     "metadata": {},
     "output_type": "execute_result"
    }
   ],
   "source": [
    "def pile_of_cubes(m):\n",
    "    sum = 0\n",
    "    i=1\n",
    "    found = \"no\"\n",
    "    while(sum<=m):\n",
    "        sum = sum + i**3\n",
    "        if sum==m:\n",
    "            found = \"yes\"\n",
    "            break\n",
    "        else: \n",
    "            i+=1\n",
    "    if found == \"no\":\n",
    "        return print(\"None\")\n",
    "    else:\n",
    "        return i\n",
    "\n",
    "pile_of_cubes(4183059834009)"
   ]
  },
  {
   "cell_type": "markdown",
   "metadata": {},
   "source": [
    "### Problem 3"
   ]
  },
  {
   "cell_type": "code",
   "execution_count": 30,
   "metadata": {},
   "outputs": [
    {
     "data": {
      "text/plain": [
       "4"
      ]
     },
     "execution_count": 30,
     "metadata": {},
     "output_type": "execute_result"
    }
   ],
   "source": [
    "def find_fulcrum(lst):\n",
    "    found = \"no\"\n",
    "    for i in range(1, len(lst)-1):\n",
    "        if sum(lst[0:i]) == sum(lst[i+1:len(lst)]):\n",
    "            found = \"yes\"\n",
    "            break\n",
    "    if found == \"yes\":\n",
    "        return lst[i]\n",
    "    else:\n",
    "        return -1\n",
    "\n",
    "find_fulcrum([1,2,4,9,10,-10, -9, 3])\n"
   ]
  },
  {
   "cell_type": "markdown",
   "metadata": {},
   "source": [
    "### Problem 4"
   ]
  },
  {
   "cell_type": "code",
   "execution_count": 35,
   "metadata": {},
   "outputs": [
    {
     "data": {
      "text/plain": [
       "4"
      ]
     },
     "execution_count": 35,
     "metadata": {},
     "output_type": "execute_result"
    }
   ],
   "source": [
    "def sock_merchant(lst):\n",
    "    items = {}\n",
    "    for num in lst:\n",
    "        if num in items.keys():\n",
    "            items[num] = items[num] + 1\n",
    "        else:\n",
    "            items[num] = 1\n",
    "    pairs = 0\n",
    "    for key in items:\n",
    "        pairs = pairs + items[key]//2\n",
    "    \n",
    "    return pairs\n",
    "        \n",
    "sock_merchant([50,20,30,90,30,20,50,20,90])"
   ]
  },
  {
   "cell_type": "markdown",
   "metadata": {},
   "source": [
    "### Problem 5"
   ]
  },
  {
   "cell_type": "code",
   "execution_count": 40,
   "metadata": {},
   "outputs": [
    {
     "data": {
      "text/plain": [
       "-23"
      ]
     },
     "execution_count": 40,
     "metadata": {},
     "output_type": "execute_result"
    }
   ],
   "source": [
    "import re\n",
    "\n",
    "def negative_sum(strng):\n",
    "    \n",
    "    #regex to find all numbers in the string\n",
    "    nums = [int(d) for d in re.findall(r'-?\\d+', strng)]\n",
    "    \n",
    "    sumneg = 0\n",
    "    for x in nums:\n",
    "        if x<0: sumneg = sumneg + x\n",
    "    \n",
    "    return sumneg\n",
    "\n",
    "negative_sum(\"-12 13%14&-11\")"
   ]
  }
 ],
 "metadata": {
  "kernelspec": {
   "display_name": "Python 3",
   "language": "python",
   "name": "python3"
  },
  "language_info": {
   "codemirror_mode": {
    "name": "ipython",
    "version": 3
   },
   "file_extension": ".py",
   "mimetype": "text/x-python",
   "name": "python",
   "nbconvert_exporter": "python",
   "pygments_lexer": "ipython3",
   "version": "3.8.5"
  }
 },
 "nbformat": 4,
 "nbformat_minor": 4
}
