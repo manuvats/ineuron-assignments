{
 "cells": [
  {
   "cell_type": "markdown",
   "metadata": {},
   "source": [
    "# Python Advance Programming Assignment - 2"
   ]
  },
  {
   "cell_type": "markdown",
   "metadata": {},
   "source": [
    "### Problem 1"
   ]
  },
  {
   "cell_type": "code",
   "execution_count": 17,
   "metadata": {},
   "outputs": [
    {
     "name": "stdout",
     "output_type": "stream",
     "text": [
      "Enter a number: 8\n",
      "The number of dots are 141\n"
     ]
    }
   ],
   "source": [
    "#Recursive function to find the number of dots in a pentagon\n",
    "def pentagonal(n):\n",
    "    if n == 1:\n",
    "        dots = 1\n",
    "    else:\n",
    "        dots = 5*(n-1) + pentagonal(n-1)\n",
    "    return dots\n",
    "\n",
    "x = int(input(\"Enter a number: \"))\n",
    "print(\"The number of dots are \" + str(pentagonal(x)))\n",
    "    "
   ]
  },
  {
   "cell_type": "markdown",
   "metadata": {},
   "source": [
    "### Problem 2"
   ]
  },
  {
   "cell_type": "code",
   "execution_count": 30,
   "metadata": {},
   "outputs": [
    {
     "name": "stdout",
     "output_type": "stream",
     "text": [
      "Enter a word/text: wood\n",
      "Encryption for wood isd33waca\n"
     ]
    }
   ],
   "source": [
    "def encrypt(txt):\n",
    "    txt = txt[::-1] #Reversing the string\n",
    "    \n",
    "    VowelsCode  =  {\n",
    "    'a':'0',\n",
    "    'e':'1',\n",
    "    'i':'2',\n",
    "    'o':'3',\n",
    "    'u':'4'\n",
    "    } #Creating a dictionary of vowels\n",
    "    \n",
    "    # Replacing vowels with their values in the lsit\n",
    "    charlist = list(txt)# Converting a string to a list\n",
    "    for i,j in enumerate(charlist):\n",
    "        if j in VowelsCode:\n",
    "            charlist[i]=VowelsCode[j]\n",
    "    \n",
    "    # Adding 'aca' to every itwm of the list\n",
    "    newtxt = \"\"\n",
    "    for x in charlist:\n",
    "        newtxt += x \n",
    "    txt = newtxt\n",
    "    return txt + \"aca\"\n",
    "\n",
    "word = str(input(\"Enter a word/text: \"))\n",
    "print(\"Encryption for \"+ word + \" is\" + encrypt(word))"
   ]
  },
  {
   "cell_type": "markdown",
   "metadata": {},
   "source": [
    "### Problem 3"
   ]
  },
  {
   "cell_type": "raw",
   "metadata": {},
   "source": [
    "### Problem 3"
   ]
  },
  {
   "cell_type": "code",
   "execution_count": 23,
   "metadata": {},
   "outputs": [
    {
     "name": "stdout",
     "output_type": "stream",
     "text": [
      "Enter the month number:3\n",
      "Enter the year:2017\n",
      "The given month does not have a Friday 13th. It's 13th is Monday\n",
      "Given month -->March 2017\n"
     ]
    }
   ],
   "source": [
    "from datetime import date #importing datetime module\n",
    "\n",
    "month = int(input('Enter the month number:'))\n",
    "year = int(input('Enter the year:'))\n",
    "\n",
    "date = datetime.datetime(year, month, 13)  #Converting input values to a date\n",
    "day_name = datetime.date(int(year), int(month), 13) #Getting the date name\n",
    "\n",
    "# if-else to check if the day number is 5 as 5 is Friday.\n",
    "if(int(day_name.strftime(\"%w\")))==5:\n",
    "    print(\"The given month has a Friday 13th\")\n",
    "    print(\"Given month -->\" + str(date.strftime(\"%B %Y\")))\n",
    "else:\n",
    "    print(\"The given month does not have a Friday 13th. It's 13th is \" + day_name.strftime(\"%A\"))\n",
    "    print(\"Given month -->\" + str(date.strftime(\"%B %Y\")))"
   ]
  },
  {
   "cell_type": "code",
   "execution_count": 60,
   "metadata": {},
   "outputs": [
    {
     "data": {
      "text/plain": [
       "2"
      ]
     },
     "execution_count": 60,
     "metadata": {},
     "output_type": "execute_result"
    }
   ],
   "source": [
    "import re\n",
    "lst = [\"bad cookie\", \"good cookie\", \"bad cookie\", \"good cookie\", \"good cookie\"]\n",
    "\n",
    "#Regex to macth the phrase 'bad cookie' present anywhere in the string\n",
    "pattern = r'\\bbad cookie\\b'\n",
    "\n",
    "len(re.findall(pattern, \", \".join(lst)))"
   ]
  },
  {
   "cell_type": "code",
   "execution_count": 2,
   "metadata": {},
   "outputs": [
    {
     "name": "stdout",
     "output_type": "stream",
     "text": [
      "Enter a group of words: cow mouse mouse table dog axis axis quiz quiz\n"
     ]
    },
    {
     "data": {
      "text/plain": [
       "['cow', 'mice', 'table', 'dog', 'axes', 'quizzes']"
      ]
     },
     "execution_count": 2,
     "metadata": {},
     "output_type": "execute_result"
    }
   ],
   "source": [
    "import inflect\n",
    "lst = str(input(\"Enter a group of words: \"))\n",
    "lst = list(lst.split(\" \"))\n",
    "\n",
    "# Here we are using a library 'inflect' which can return plural of words\n",
    "# first we have to create an engine of the library \n",
    "engine = inflect.engine()\n",
    "\n",
    "#Then we can get plural of the words on the basis of condition\n",
    "#Syntax --> engine.plural(word, CountoftheWord) | Here the 'CountoftheWord' is the condition. If it is more than 1,-: \n",
    "# then only it will return a plural\n",
    "#We have calculated the count of the word by counting the number of occurrences of the word/item in the list by list.count(item)\n",
    "newlist = [engine.plural(word, lst.count(word)) for word in lst]\n",
    "\n",
    "#To avoid repititions of the words in the list, we have first converted the list into a dictionary\n",
    "# because a dictionary can't have repititions\n",
    "# Then we again convert it into a list\n",
    "lst = list(dict.fromkeys(newlist))\n",
    "lst"
   ]
  }
 ],
 "metadata": {
  "kernelspec": {
   "display_name": "Python 3",
   "language": "python",
   "name": "python3"
  },
  "language_info": {
   "codemirror_mode": {
    "name": "ipython",
    "version": 3
   },
   "file_extension": ".py",
   "mimetype": "text/x-python",
   "name": "python",
   "nbconvert_exporter": "python",
   "pygments_lexer": "ipython3",
   "version": "3.8.5"
  }
 },
 "nbformat": 4,
 "nbformat_minor": 4
}
