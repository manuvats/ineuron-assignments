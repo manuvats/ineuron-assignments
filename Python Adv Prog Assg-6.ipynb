{
 "cells": [
  {
   "cell_type": "markdown",
   "metadata": {},
   "source": [
    "# Python Programming Assignment - 6"
   ]
  },
  {
   "cell_type": "code",
   "execution_count": 20,
   "metadata": {},
   "outputs": [],
   "source": []
  },
  {
   "cell_type": "markdown",
   "metadata": {},
   "source": [
    "### Problem 1"
   ]
  },
  {
   "cell_type": "code",
   "execution_count": 19,
   "metadata": {},
   "outputs": [
    {
     "name": "stdout",
     "output_type": "stream",
     "text": [
      "Enter the string s: ae\n",
      "Enter the string t: aea\n",
      "a\n"
     ]
    }
   ],
   "source": [
    "def find_the_difference(s, t):\n",
    "    #ipdb.set_trace()\n",
    "    s_list = list(s)\n",
    "    t_list = list(t)\n",
    "    for letter in t_list:\n",
    "        if t_list.count(letter)!=s_list.count(letter):\n",
    "            print(letter)\n",
    "            break       \n",
    "\n",
    "s = str(input(\"Enter the string s: \"))\n",
    "t = str(input(\"Enter the string t: \"))\n",
    "find_the_difference(s, t)"
   ]
  },
  {
   "cell_type": "markdown",
   "metadata": {},
   "source": [
    "### Problem 2"
   ]
  },
  {
   "cell_type": "code",
   "execution_count": 38,
   "metadata": {},
   "outputs": [
    {
     "data": {
      "text/plain": [
       "[3, 1, 1, 0, 0, 1]"
      ]
     },
     "execution_count": 38,
     "metadata": {},
     "output_type": "execute_result"
    }
   ],
   "source": [
    "def count_datatypes(*args):\n",
    "    dt_list = []\n",
    "    int_types, str_types, bool_types, list_types, tuple_types, dict_types = 0,0,0,0,0,0 \n",
    "    for item in args:\n",
    "        if \"int\" in str(type(item)):\n",
    "            int_types+=1\n",
    "        elif \"str\" in str(type(item)):\n",
    "            str_types+=1\n",
    "        elif \"bool\" in str(type(item)):\n",
    "            bool_types+=1\n",
    "        elif \"list\" in str(type(item)):\n",
    "            list_types+=1\n",
    "        elif \"tuple\" in str(type(item)):\n",
    "            tuple_types+=1\n",
    "        elif \"dict\" in str(type(item)):\n",
    "            dict_types+=1\n",
    "    return [int_types, str_types, bool_types, list_types, tuple_types, dict_types]\n",
    "            \n",
    "count_datatypes(5.4, 6.25, 1, 2, 3, \"hello\", True, {\"name\":\"Manu\", \"age\":30})"
   ]
  },
  {
   "cell_type": "markdown",
   "metadata": {},
   "source": [
    "### Problem 3"
   ]
  },
  {
   "cell_type": "code",
   "execution_count": 17,
   "metadata": {},
   "outputs": [
    {
     "data": {
      "text/plain": [
       "['n', 'k', 'kn', 'knk', 'knkkn', 'knkknknk']"
      ]
     },
     "execution_count": 17,
     "metadata": {},
     "output_type": "execute_result"
    }
   ],
   "source": [
    "#import ipdb\n",
    "#ipdb.set_trace()\n",
    "def fib_str(length, lst):\n",
    "    #fib_series = lst[1]\n",
    "    i=2\n",
    "    while i<length:\n",
    "        for j in range(2):\n",
    "            if (i+j)<length:\n",
    "                fib_item = lst[i-1] + lst[i-2]\n",
    "                #print(fib_series)\n",
    "                lst.append(fib_item)\n",
    "                i+=1\n",
    "    return lst\n",
    "\n",
    "fib_str(6, [\"n\", \"k\"])\n",
    "    "
   ]
  },
  {
   "cell_type": "markdown",
   "metadata": {},
   "source": [
    "### Problem 4"
   ]
  },
  {
   "cell_type": "code",
   "execution_count": 30,
   "metadata": {},
   "outputs": [
    {
     "name": "stdout",
     "output_type": "stream",
     "text": [
      "Enter a number: 22\n"
     ]
    },
    {
     "data": {
      "text/plain": [
       "'nines:2, threes:1, ones:1'"
      ]
     },
     "execution_count": 30,
     "metadata": {},
     "output_type": "execute_result"
    }
   ],
   "source": [
    "def ones_threes_nines(n):\n",
    "    nines = int(n/9)\n",
    "    threes = int((n%9)/3)\n",
    "    ones = (n%9)%3\n",
    "    return \"nines:\" + str(nines) + \", threes:\" + str(threes) + \", ones:\" + str(ones)\n",
    "\n",
    "number = int(input(\"Enter a number: \"))\n",
    "ones_threes_nines(number)"
   ]
  },
  {
   "cell_type": "markdown",
   "metadata": {},
   "source": [
    "### Problem 5"
   ]
  },
  {
   "cell_type": "code",
   "execution_count": 25,
   "metadata": {},
   "outputs": [
    {
     "name": "stdout",
     "output_type": "stream",
     "text": [
      "Enter a number: 6\n"
     ]
    },
    {
     "data": {
      "text/plain": [
       "8"
      ]
     },
     "execution_count": 25,
     "metadata": {},
     "output_type": "execute_result"
    }
   ],
   "source": [
    "def fib(n):\n",
    "    a = 0\n",
    "    b = 1\n",
    "     \n",
    "    # Check is n is less\n",
    "    # than 0\n",
    "    if n < 0:\n",
    "        print(\"Incorrect input\")\n",
    "         \n",
    "    # Check is n is equal\n",
    "    # to 0\n",
    "    elif n == 0:\n",
    "        return 0\n",
    "       \n",
    "    # Check if n is equal to 1\n",
    "    elif n == 1:\n",
    "        return b\n",
    "    else:\n",
    "        for i in range(1, n):\n",
    "            c = a + b\n",
    "            a = b\n",
    "            b = c\n",
    "        return b\n",
    "\n",
    "number = int(input(\"Enter a number: \"))\n",
    "fib(number)"
   ]
  }
 ],
 "metadata": {
  "kernelspec": {
   "display_name": "Python 3",
   "language": "python",
   "name": "python3"
  },
  "language_info": {
   "codemirror_mode": {
    "name": "ipython",
    "version": 3
   },
   "file_extension": ".py",
   "mimetype": "text/x-python",
   "name": "python",
   "nbconvert_exporter": "python",
   "pygments_lexer": "ipython3",
   "version": "3.8.5"
  }
 },
 "nbformat": 4,
 "nbformat_minor": 4
}
