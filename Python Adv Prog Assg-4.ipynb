{
 "cells": [
  {
   "cell_type": "markdown",
   "metadata": {},
   "source": [
    "# Python Adv Prog Assg-3"
   ]
  },
  {
   "cell_type": "markdown",
   "metadata": {},
   "source": [
    "### Problem 1"
   ]
  },
  {
   "cell_type": "code",
   "execution_count": 10,
   "metadata": {},
   "outputs": [
    {
     "name": "stdout",
     "output_type": "stream",
     "text": [
      "Enter a number: 50\n",
      "The fibonacci number of given number is 12586269025\n"
     ]
    }
   ],
   "source": [
    "def fastFib(num):\n",
    "    seq = [0]*(num) #Initialize a null list\n",
    "    for i in range(num):\n",
    "        if i>1:\n",
    "            seq[i] = seq[i-1]+ seq[i-2]\n",
    "        else:\n",
    "            seq[i] = i   #At the first two iterations of the loop, we store the i value as it is\n",
    "    return (seq[-1] + seq[-2])\n",
    "\n",
    "number = int(input(\"Enter a number: \"))\n",
    "print(\"The fibonacci number of given number is \" + str(fastFib(number)))"
   ]
  },
  {
   "cell_type": "markdown",
   "metadata": {},
   "source": [
    "### Problem 2"
   ]
  },
  {
   "cell_type": "code",
   "execution_count": 4,
   "metadata": {},
   "outputs": [
    {
     "name": "stdout",
     "output_type": "stream",
     "text": [
      "Enter a text: Marty Poppinson\n",
      "The hexadecimal value of the string is 4d 61 72 74 79 20 50 6f 70 70 69 6e 73 6f 6e\n"
     ]
    }
   ],
   "source": [
    "def convert_to_hex(string):\n",
    "    chars = list(string)\n",
    "    new_list = []\n",
    "    for item in chars:\n",
    "        new_list.append(format(ord(item),\"x\"))\n",
    "    return \" \".join(new_list)\n",
    "\n",
    "text = str(input(\"Enter a text: \"))\n",
    "print(\"The hexadecimal value of the string is \" + str(convert_to_hex(text)))"
   ]
  },
  {
   "cell_type": "markdown",
   "metadata": {},
   "source": [
    "### Problem 3"
   ]
  },
  {
   "cell_type": "code",
   "execution_count": 24,
   "metadata": {},
   "outputs": [
    {
     "name": "stdout",
     "output_type": "stream",
     "text": [
      "Enter a string to uncensor: *PP*RC*S*\n",
      "Enter the censored vowels: UEAE\n"
     ]
    },
    {
     "data": {
      "text/plain": [
       "'UPPERCASE'"
      ]
     },
     "execution_count": 24,
     "metadata": {},
     "output_type": "execute_result"
    }
   ],
   "source": [
    "def uncensor(string, vowels):\n",
    "    new_string = []\n",
    "    if(vowels==''): #If there are no censored vowels provided, print the string as its is\n",
    "        new_string = string\n",
    "    else:\n",
    "        i=0\n",
    "        while i<len(censVowels):\n",
    "            for char in string:\n",
    "                if char == '*':\n",
    "                    new_string.append(censVowels[i])\n",
    "                    i=i+1\n",
    "                else:\n",
    "                    new_string.append(char)\n",
    "            i=i+1\n",
    "    return\"\".join(new_string)\n",
    "    \n",
    "text = str(input(\"Enter a string to uncensor: \"))\n",
    "censVowels = str(input(\"Enter the censored vowels: \"))\n",
    "uncensor(text, censVowels)\n",
    "    "
   ]
  },
  {
   "cell_type": "markdown",
   "metadata": {},
   "source": [
    "### Problem 4"
   ]
  },
  {
   "cell_type": "code",
   "execution_count": 30,
   "metadata": {},
   "outputs": [
    {
     "name": "stdout",
     "output_type": "stream",
     "text": [
      "Enter IP Address: 8.8.8.8\n",
      "Domain Name - dns.google\n"
     ]
    }
   ],
   "source": [
    "import socket\n",
    "IPaddr = str(input(\"Enter IP Address: \"))\n",
    "domain_name = socket.gethostbyaddr(IPaddr)[0]\n",
    "print(\"Domain Name - \" + domain_name)"
   ]
  },
  {
   "cell_type": "markdown",
   "metadata": {},
   "source": [
    "### Problem 5"
   ]
  },
  {
   "cell_type": "code",
   "execution_count": 1,
   "metadata": {
    "scrolled": true
   },
   "outputs": [
    {
     "name": "stdout",
     "output_type": "stream",
     "text": [
      "Enter a number: 4\n",
      "Factorial of factorial 4 is 288\n"
     ]
    }
   ],
   "source": [
    "def factorial(x):\n",
    "    # single line to find factorial\n",
    "    return 1 if (x==1 or x==0) else x * factorial(x - 1);\n",
    "\n",
    "def fact_of_fact(n):\n",
    "    product = 1\n",
    "    for i in range(1,n+1):\n",
    "        product = product * factorial(i)\n",
    "    return product    \n",
    "\n",
    "number = int(input(\"Enter a number: \"))\n",
    "\n",
    "print(\"Factorial of factorial \" + str(number) + \" is \" + str(fact_of_fact(number)))\n"
   ]
  }
 ],
 "metadata": {
  "kernelspec": {
   "display_name": "Python 3",
   "language": "python",
   "name": "python3"
  },
  "language_info": {
   "codemirror_mode": {
    "name": "ipython",
    "version": 3
   },
   "file_extension": ".py",
   "mimetype": "text/x-python",
   "name": "python",
   "nbconvert_exporter": "python",
   "pygments_lexer": "ipython3",
   "version": "3.8.5"
  }
 },
 "nbformat": 4,
 "nbformat_minor": 4
}
