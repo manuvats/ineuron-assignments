{
 "cells": [
  {
   "cell_type": "markdown",
   "metadata": {},
   "source": [
    "# Python Advance Prog. Assg. - 3"
   ]
  },
  {
   "cell_type": "markdown",
   "metadata": {},
   "source": [
    "### Problem 1"
   ]
  },
  {
   "cell_type": "code",
   "execution_count": 30,
   "metadata": {},
   "outputs": [
    {
     "name": "stdout",
     "output_type": "stream",
     "text": [
      "Enter an expression: 47+50\n",
      "The result of this operation is 97\n"
     ]
    }
   ],
   "source": [
    "import re\n",
    "\n",
    "def arithmetic_operation(exp):\n",
    "    ops = re.findall(r'[\\+\\-*/]', exp)\n",
    "    operands = re.findall('[0-9]+', exp)\n",
    "\n",
    "    result = 1\n",
    "    \n",
    "    if ops[0] == '+':\n",
    "        result = int(operands[0]) + int(operands[1])\n",
    "    \n",
    "    elif ops[0] == '-':\n",
    "        result = int(operands[0]) - int(operands[1])\n",
    "        \n",
    "    elif ops[0] == '*':\n",
    "        result = int(operands[0]) * int(operands[1])\n",
    "        \n",
    "    elif ops[0] == '/':\n",
    "        if int(operands[1])==0:\n",
    "            result = -1\n",
    "        else:\n",
    "            result = int(operands[0]) / int(operands[1])\n",
    "    else:\n",
    "        print(\"Wrong expression\")\n",
    "    \n",
    "    print(\"The result of this operation is \" + str(result))\n",
    "    \n",
    "expression = str(input(\"Enter an expression: \"))\n",
    "\n",
    "arithmetic_operation(expression)"
   ]
  },
  {
   "cell_type": "markdown",
   "metadata": {},
   "source": [
    "### Problem 2"
   ]
  },
  {
   "cell_type": "code",
   "execution_count": 2,
   "metadata": {},
   "outputs": [
    {
     "name": "stdout",
     "output_type": "stream",
     "text": [
      "Enter the x and y coordinates of vertex 1 separated by comma: 1,1\n",
      "Enter the x and y coordinates of vertex 2 separated by comma: 2,2\n",
      "Enter the x and y coordinates of vertex 3 separated by comma: 3,3\n",
      "The perimeter is 5.656854249492381\n"
     ]
    }
   ],
   "source": [
    "import math\n",
    "\n",
    "def perimeter(coords):\n",
    "    ab = math.sqrt((int(coords[1][0]) - int(coords[0][0]))**2 + (int(coords[1][1]) - int(coords[0][1]))**2)\n",
    "    bc = math.sqrt((int(coords[2][0]) - int(coords[1][0]))**2 + (int(coords[2][1]) - int(coords[1][1]))**2)\n",
    "    ca = math.sqrt((int(coords[0][0]) - int(coords[2][0]))**2 + (int(coords[0][1]) - int(coords[2][1]))**2)\n",
    "    return ab+bc+ca\n",
    "            \n",
    "vertices = []\n",
    "for i in range(1,4):\n",
    "    vertices.append(list(map(str, input(\"Enter the x and y coordinates of vertex \" + str(i) + \" separated by comma: \" ).split(\",\"))))\n",
    "\n",
    "print (\"The perimeter is \" + str(perimeter(vertices)))\n"
   ]
  },
  {
   "cell_type": "code",
   "execution_count": 11,
   "metadata": {
    "scrolled": true
   },
   "outputs": [
    {
     "name": "stdout",
     "output_type": "stream",
     "text": [
      "Enter the dimensions of the matrix separated by comma: 3,3\n",
      "Enter for {1}{1}0\n",
      "Enter for {1}{2}0\n",
      "Enter for {1}{3}1\n",
      "Enter for {2}{1}0\n",
      "Enter for {2}{2}1\n",
      "Enter for {2}{3}1\n",
      "Enter for {3}{1}1\n",
      "Enter for {3}{2}1\n",
      "Enter for {3}{3}1\n",
      "\n",
      "The city looks like this-:\n",
      "[0, 0, 1]\n",
      "[0, 1, 1]\n",
      "[1, 1, 1]\n",
      "\n",
      "The largest height of a skyscraper is 3\n"
     ]
    }
   ],
   "source": [
    "def tallest_skyscraper(City):\n",
    "    # Presenting the nested list in the matrix form\n",
    "    print('\\nThe city looks like this-:')\n",
    "    print(*City, sep='\\n') #The * in front of the City makes the contents of the list individual arguments to the print() function\n",
    "    \n",
    "    # Initializing a list to zero. This list will store the heights of the skyscrapers\n",
    "    scraper=[0] * int(len(City[0]))\n",
    "    # Calculating height of the skyscrapers. Here height = sum of elements in each column \n",
    "    # = sum of nth item of each sublist within the nested list where n = 1 to (number of columns)\n",
    "    for floor in range(len(City)): #len(City) denotes number of rows\n",
    "        for block in range(len(City[0])): #len(City[0]) denotes number of columns\n",
    "            scraper[block] = scraper[block] + City[floor][block]\n",
    "            \n",
    "    return print(\"\\nThe largest height of a skyscraper is \" + str(max(scraper)))\n",
    "\n",
    "# Taking the dimensions of the matrix as input\n",
    "row,col = input(\"Enter the dimensions of the matrix separated by comma: \").split(\",\")\n",
    "\n",
    "# Taking input the values of the matrix\n",
    "City = []\n",
    "City = [[int(input(\"Enter for {\" + str(y+1)+\"}{\" + str(x+1)+\"}\")) for x in range(int(col))] for y in range(int(row))]\n",
    "    \n",
    "tallest_skyscraper(City)"
   ]
  },
  {
   "cell_type": "markdown",
   "metadata": {},
   "source": [
    "### Problem 4"
   ]
  },
  {
   "cell_type": "code",
   "execution_count": 24,
   "metadata": {},
   "outputs": [
    {
     "name": "stdout",
     "output_type": "stream",
     "text": [
      "Enter the number of billable days: 15\n",
      "The total bonus amount is 0\n"
     ]
    }
   ],
   "source": [
    "def bonus(bdays):\n",
    "    if bdays>32:\n",
    "        if bdays>40:\n",
    "            if bdays>48:\n",
    "                total = 8*325 + 8*550 + (bdays-48)*600\n",
    "            else:\n",
    "                total = 8*325 + (bdays-40)*550\n",
    "        else:\n",
    "            total = (bdays-32)*325\n",
    "    else:\n",
    "        total = 0\n",
    "    print(\"The total bonus amount is \" + str(total))\n",
    "        \n",
    "workDays = int(input(\"Enter the number of billable days: \"))\n",
    "bonus(workDays)\n",
    "            "
   ]
  },
  {
   "cell_type": "markdown",
   "metadata": {},
   "source": [
    "### Problem 5"
   ]
  },
  {
   "cell_type": "code",
   "execution_count": 8,
   "metadata": {},
   "outputs": [
    {
     "name": "stdout",
     "output_type": "stream",
     "text": [
      "Enter a number: 135\n"
     ]
    },
    {
     "data": {
      "text/plain": [
       "True"
      ]
     },
     "execution_count": 8,
     "metadata": {},
     "output_type": "execute_result"
    }
   ],
   "source": [
    "def is_disarium(number):\n",
    "    \n",
    "    #Extracting digits from the number into a list\n",
    "    digits = [int(d) for d in str(number)]\n",
    "    \n",
    "    #Loop to apply the formula\n",
    "    sumtotal = 0\n",
    "    for i in range(len(digits)):\n",
    "        sumtotal = sumtotal + digits[i]**(i+1)\n",
    "    if sumtotal == number:\n",
    "        return True\n",
    "    else:\n",
    "        return False\n",
    "    \n",
    "num = int(input(\"Enter a number: \"))    \n",
    "is_disarium(num)"
   ]
  }
 ],
 "metadata": {
  "kernelspec": {
   "display_name": "Python 3",
   "language": "python",
   "name": "python3"
  },
  "language_info": {
   "codemirror_mode": {
    "name": "ipython",
    "version": 3
   },
   "file_extension": ".py",
   "mimetype": "text/x-python",
   "name": "python",
   "nbconvert_exporter": "python",
   "pygments_lexer": "ipython3",
   "version": "3.8.5"
  }
 },
 "nbformat": 4,
 "nbformat_minor": 4
}
