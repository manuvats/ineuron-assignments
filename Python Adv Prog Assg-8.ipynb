{
 "cells": [
  {
   "cell_type": "markdown",
   "metadata": {},
   "source": [
    "# Python Advance Programming Assignment - 8"
   ]
  },
  {
   "cell_type": "markdown",
   "metadata": {},
   "source": [
    "### Problem 1"
   ]
  },
  {
   "cell_type": "code",
   "execution_count": 9,
   "metadata": {},
   "outputs": [
    {
     "name": "stdout",
     "output_type": "stream",
     "text": [
      "Enter text: go to edabit\n"
     ]
    },
    {
     "data": {
      "text/plain": [
       "True"
      ]
     },
     "execution_count": 9,
     "metadata": {},
     "output_type": "execute_result"
    }
   ],
   "source": [
    "def vowel_links(string):\n",
    "    str_list = string.split()  #Splitting text into words\n",
    "    str_list = [list(word) for word in str_list]  #Splitting word into letters      \n",
    "    \n",
    "    vowels = [\"a\", \"e\", \"i\", \"o\", \"u\"]\n",
    "    \n",
    "    result = False\n",
    "    \n",
    "    for i in range(1, len(str_list)):\n",
    "        result = all([i in vowels for i in \n",
    "                      [str_list[i][0], \n",
    "                      str_list[i-1][len(str_list[i-1])-1]]])\n",
    "        if result:\n",
    "            break\n",
    "\n",
    "    return result\n",
    "\n",
    "text = str(input(\"Enter text: \"))\n",
    "vowel_links(text)"
   ]
  },
  {
   "cell_type": "markdown",
   "metadata": {},
   "source": [
    "### Problem 2"
   ]
  },
  {
   "cell_type": "code",
   "execution_count": 36,
   "metadata": {},
   "outputs": [
    {
     "name": "stdout",
     "output_type": "stream",
     "text": [
      "Enter text: a rabbit jumps joyfully\n",
      "Enter 1st letter: a\n",
      "Enter 2nd letter: j\n"
     ]
    },
    {
     "data": {
      "text/plain": [
       "True"
      ]
     },
     "execution_count": 36,
     "metadata": {},
     "output_type": "execute_result"
    }
   ],
   "source": [
    "def first_before_second(string, l1, l2):\n",
    "    letters = list(string)  #Splitting text into letters\n",
    "    \n",
    "    l1list, l2list = [], []\n",
    "    \n",
    "    for i in range(len(letters)):  \n",
    "        if letters[i] == l1:  # Making a list of all positions of 1st letter\n",
    "            l1list.append(i)\n",
    "            \n",
    "        elif letters[i] == l2: # Making a list of all positions of 2nd letter\n",
    "            l2list.append(i)\n",
    "    \n",
    "    result = True\n",
    "    for pos1 in l1list:   # Comparing the positions of both letters\n",
    "        for pos2 in l2list:\n",
    "            if pos1 > pos2:\n",
    "                result = False\n",
    "        if not result: break\n",
    "    \n",
    "    return result\n",
    "\n",
    "text = str(input(\"Enter text: \"))\n",
    "letter1 = str(input(\"Enter 1st letter: \"))\n",
    "letter2 = str(input(\"Enter 2nd letter: \"))\n",
    "\n",
    "first_before_second(text, letter1, letter2)"
   ]
  },
  {
   "cell_type": "markdown",
   "metadata": {},
   "source": [
    "### Problem 3"
   ]
  },
  {
   "cell_type": "code",
   "execution_count": 75,
   "metadata": {
    "scrolled": true
   },
   "outputs": [
    {
     "data": {
      "text/plain": [
       "['E', 'A', 'I']"
      ]
     },
     "execution_count": 75,
     "metadata": {},
     "output_type": "execute_result"
    }
   ],
   "source": [
    "def char_at_pos(lst, oe):\n",
    "    \n",
    "    chars = []\n",
    "    \n",
    "    # if the list is similar to --> ['Text'], then convert it into ['T', 'e', 'x', 't']\n",
    "    if len(lst)==1:       \n",
    "        lst = list(lst[0])\n",
    "    \n",
    "    if oe == \"odd\":\n",
    "        for i in range(0, len(lst), 2):\n",
    "            chars.append(lst[i])\n",
    "    elif oe == \"even\":\n",
    "        for i in range(1, len(lst), 2): \n",
    "            chars.append(lst[i])\n",
    "    \n",
    "    return chars\n",
    "    \n",
    "char_at_pos([\"EDABIT\"], \"odd\")    "
   ]
  },
  {
   "cell_type": "markdown",
   "metadata": {},
   "source": [
    "### Problem 4"
   ]
  },
  {
   "cell_type": "code",
   "execution_count": 16,
   "metadata": {
    "scrolled": true
   },
   "outputs": [
    {
     "data": {
      "text/plain": [
       "(64, 64.0)"
      ]
     },
     "execution_count": 16,
     "metadata": {},
     "output_type": "execute_result"
    }
   ],
   "source": [
    "# Following are two functions with different logic\n",
    "\n",
    "# Following Function implements the Euclidian algorithm to find GCD of two numbers\n",
    "def GCDeucld(num_list):\n",
    "    def gcd2nos(x, y):    \n",
    "        while(y):\n",
    "            x, y = y, x % y\n",
    "        return x\n",
    "        \n",
    "    num1 = num_list[0]\n",
    "    num2 = num_list[1]\n",
    "    \n",
    "    gcd = gcd2nos(num1, num2)\n",
    "    \n",
    "    for i in range(2, len(num_list)):\n",
    "        gcd = gcd2nos(gcd, num_list[i])\n",
    "    \n",
    "    return gcd\n",
    "\n",
    "####################################################################################\n",
    "\n",
    "# Following function 1st creates a list of prime numbers upto half of the smallest number in the given list.\n",
    "# Then we take one prime number at a time and divide the smallest number in the given list by it. Let us say we get x. \n",
    "# We then check divisibility of other numbers in the given list by x. If all divisible, then x is gcd. \n",
    "def GCD(lst):\n",
    "    \n",
    "    # finding prime numbers in an interval\n",
    "    def prime_list(upper):\n",
    "        plist = [1]\n",
    "        for num in range(2, upper + 1):\n",
    "            for i in range(2, num):\n",
    "                if (num % i) == 0:\n",
    "                    break\n",
    "                else:\n",
    "                    plist.append(num)\n",
    "        return plist\n",
    "        \n",
    "    # listing prime numbers upto half of the smallest number in the given list\n",
    "    primes = prime_list(int(min(lst)/2))\n",
    "    \n",
    "    for p in primes: # Looping though prime numbers list\n",
    "        result = True\n",
    "        if min(lst)%p==0: # if smallest number is divisible by 1st prime number in prime list\n",
    "            gcd = min(lst)/p\n",
    "            \n",
    "            for num in lst:  # Now looping through given numbers list\n",
    "                if num%(gcd)!= 0:  \n",
    "                    result = False\n",
    "                    break \n",
    "            if result: \n",
    "                break\n",
    "    return gcd\n",
    "\n",
    "GCDeucld([1024,192,2048,512]), GCD([1024,192,2048,512]) \n"
   ]
  },
  {
   "cell_type": "markdown",
   "metadata": {},
   "source": [
    "### Problem 5"
   ]
  },
  {
   "cell_type": "code",
   "execution_count": 42,
   "metadata": {},
   "outputs": [
    {
     "data": {
      "text/plain": [
       "'Decimal and Binary'"
      ]
     },
     "execution_count": 42,
     "metadata": {},
     "output_type": "execute_result"
    }
   ],
   "source": [
    "def palindrome_type(n):\n",
    "    def reversal(num):\n",
    "        rev = 0\n",
    "        while(num > 0):\n",
    "            a = num % 10\n",
    "            rev = rev * 10 + a\n",
    "            num = num // 10\n",
    "        return rev\n",
    "    \n",
    "    binary = int(bin(n).replace(\"0b\", \"\"))\n",
    "    \n",
    "    nrev = reversal(n)\n",
    "    binaryrev = reversal(binary)\n",
    "    \n",
    "    if n == nrev:\n",
    "        if binary == binaryrev:\n",
    "            return \"Decimal and Binary\"\n",
    "        else:\n",
    "            return \"Decimaly only\"\n",
    "    else:\n",
    "        if binary == binaryrev:\n",
    "            return \"Binary only\"\n",
    "        else:\n",
    "            return \"Neither\"\n",
    "    \n",
    "palindrome_type(313)"
   ]
  }
 ],
 "metadata": {
  "kernelspec": {
   "display_name": "Python 3",
   "language": "python",
   "name": "python3"
  },
  "language_info": {
   "codemirror_mode": {
    "name": "ipython",
    "version": 3
   },
   "file_extension": ".py",
   "mimetype": "text/x-python",
   "name": "python",
   "nbconvert_exporter": "python",
   "pygments_lexer": "ipython3",
   "version": "3.8.5"
  }
 },
 "nbformat": 4,
 "nbformat_minor": 4
}
