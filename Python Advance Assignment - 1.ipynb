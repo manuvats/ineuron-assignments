{
 "cells": [
  {
   "cell_type": "markdown",
   "metadata": {},
   "source": [
    "## Python Advance Assignment - 1"
   ]
  },
  {
   "cell_type": "markdown",
   "metadata": {},
   "source": [
    "__1.__ The main aim of OOP is to bind together the data and the functions that operate on them so that no other part of the code can access this data except that function. Another purpose of OOP is to provide code usability."
   ]
  },
  {
   "cell_type": "markdown",
   "metadata": {},
   "source": [
    "__2.__ The inheritance search looks for an attribute in the subclass or the derived class first. If it doesn't find the attribute there, then it searches for it in the superclass or base class. All the classes form a tree structure. So whenever an instance is created of a class which is at the bottom-most level of the tree, it first looks for the attributes in the same class and then goes up the each level of the class structure untill it finds the attribute.\n",
    "\n",
    "For eg. there are 3 classes namely C1, C2 and C3.\n",
    "C2 is derived from C1 and C3 is derived from C2."
   ]
  },
  {
   "cell_type": "code",
   "execution_count": 11,
   "metadata": {},
   "outputs": [],
   "source": [
    "class C1:\n",
    "    def __init__(self, name, surname):\n",
    "        self.name1 = name\n",
    "        self.surname1 = surname\n",
    "\n",
    "class C2(C1):\n",
    "    def __init__(self, weight, *args):\n",
    "        self.weight1 = weight\n",
    "        \n",
    "class C3(C2):\n",
    "    def __init__(self, age, *args):\n",
    "        self.age1 = age\n",
    "    \n",
    "john = C3(20, 60, \"John\", \"Miles\")"
   ]
  },
  {
   "cell_type": "markdown",
   "metadata": {},
   "source": [
    "Now here, when the object __john__ is created, the inheritance 1st looks for \"age\" and it finds it in the __C3__ class. But after that, it looks for \"weight\", \"name\" and \"surname\". It doesn't find them in __C3__. So it looks in __C3__'s super class. It finds \"weight\" in one level above __C3__ and \"name\" and \"surname\" in another level above. \n",
    "This is how, the inheritance search looks for attributes"
   ]
  },
  {
   "cell_type": "markdown",
   "metadata": {},
   "source": [
    "__3.__ Changes made in a class object reflect in every other class or instance object untill overriden. But an instance object is created independent of every other class object or instance object and changes made in it are not refelected anywhere else. "
   ]
  },
  {
   "cell_type": "markdown",
   "metadata": {},
   "source": [
    "__4.__ The 1st argument of a class method function is a pointer usually named __self__ which is used to access attributes of the class. Without it, we can't receive or access the attributes of the class. "
   ]
  },
  {
   "cell_type": "markdown",
   "metadata": {},
   "source": [
    "__5.__ __init__ method is used to initialize the attributes of the class. It is called when an object is created from a class."
   ]
  },
  {
   "cell_type": "markdown",
   "metadata": {},
   "source": [
    "__6.__ First we create a class. Here we create a class \"Person\". Then we add methods and attributes to the class. Here we have added the __init__ method to initialize the attributes. Then we create an object of the class and initialize the attributes. The object here is __alec__. That is how we create an instance of a class."
   ]
  },
  {
   "cell_type": "code",
   "execution_count": 15,
   "metadata": {},
   "outputs": [],
   "source": [
    "class Person:\n",
    "    def __init__(self, name, surname, dob, weight):\n",
    "        self.name = name\n",
    "        self.surname = surname\n",
    "        self.dob = dob\n",
    "        self.weight = weight\n",
    "        \n",
    "alec = Person(\"Alec\", \"Stewart\", \"25 Jan 1970\", 75)\n",
    "    "
   ]
  },
  {
   "cell_type": "markdown",
   "metadata": {},
   "source": [
    "__7.__ Class creates a user-defined data structure, which holds its own data members and member functions, which can be accessed and used by creating an instance of that class. We use the keyword 'Class' to create a class in Python."
   ]
  },
  {
   "cell_type": "code",
   "execution_count": 17,
   "metadata": {},
   "outputs": [],
   "source": [
    "class C:\n",
    "    pass"
   ]
  },
  {
   "cell_type": "markdown",
   "metadata": {},
   "source": [
    "__8.__ Here we have created two classes. One is __Person__ and other is __Student__. __Person__ is a superclass of __Student__ --:"
   ]
  },
  {
   "cell_type": "code",
   "execution_count": 19,
   "metadata": {},
   "outputs": [],
   "source": [
    "class Person:\n",
    "    def __init__(self, name):\n",
    "        self.name = name\n",
    "        \n",
    "class Student:\n",
    "    def __init__(self, marks, *args):\n",
    "        super(Student, self).__init__(*args)\n",
    "        self.marks = marks"
   ]
  }
 ],
 "metadata": {
  "kernelspec": {
   "display_name": "Python 3",
   "language": "python",
   "name": "python3"
  },
  "language_info": {
   "codemirror_mode": {
    "name": "ipython",
    "version": 3
   },
   "file_extension": ".py",
   "mimetype": "text/x-python",
   "name": "python",
   "nbconvert_exporter": "python",
   "pygments_lexer": "ipython3",
   "version": "3.8.5"
  }
 },
 "nbformat": 4,
 "nbformat_minor": 4
}
