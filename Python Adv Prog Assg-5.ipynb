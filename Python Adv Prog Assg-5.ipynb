{
 "cells": [
  {
   "cell_type": "markdown",
   "metadata": {},
   "source": [
    "# Python Advance Programming Assignment-5"
   ]
  },
  {
   "cell_type": "markdown",
   "metadata": {},
   "source": [
    "### Problem 1"
   ]
  },
  {
   "cell_type": "code",
   "execution_count": 37,
   "metadata": {},
   "outputs": [
    {
     "name": "stdout",
     "output_type": "stream",
     "text": [
      "Enter a number: 50\n"
     ]
    },
    {
     "data": {
      "text/plain": [
       "8"
      ]
     },
     "execution_count": 37,
     "metadata": {},
     "output_type": "execute_result"
    }
   ],
   "source": [
    "def oddeven(n):\n",
    "    rem = n - (int(n/2) * 2)   \n",
    "    return int(8/(2**(2*rem)))\n",
    "\n",
    "number = int(input(\"Enter a number: \"))\n",
    "oddeven(number)"
   ]
  },
  {
   "cell_type": "markdown",
   "metadata": {},
   "source": [
    "### Problem 2"
   ]
  },
  {
   "cell_type": "code",
   "execution_count": 17,
   "metadata": {},
   "outputs": [
    {
     "name": "stdout",
     "output_type": "stream",
     "text": [
      "Enter candidates: a a b b c c d d\n",
      "No majority winner\n"
     ]
    }
   ],
   "source": [
    "def majority(arglist):\n",
    "    winner = []\n",
    "    for i in range(0,len(arglist)):\n",
    "        if arglist.count(arglist[i]) > len(arglist)/2:\n",
    "            winner.append(arglist[i])\n",
    "        \n",
    "    if len(winner)==0:\n",
    "        print(\"No majority winner\")\n",
    "    else:\n",
    "        print(\"The majority winner is \" + str(winner[0]))\n",
    "\n",
    "candidates = list(map(str, input(\"Enter candidates: \").split()))\n",
    "majority(candidates)\n",
    "            \n",
    "    "
   ]
  },
  {
   "cell_type": "markdown",
   "metadata": {},
   "source": [
    "### Problem 3"
   ]
  },
  {
   "cell_type": "code",
   "execution_count": 45,
   "metadata": {},
   "outputs": [
    {
     "name": "stdout",
     "output_type": "stream",
     "text": [
      "Enter a text to uncensor: the cow jumped over the fence\n",
      "Enter the words to censor: cow the fence\n",
      "Enter the symbol to censor the words with: &\n"
     ]
    },
    {
     "data": {
      "text/plain": [
       "'&&& &&& jumped over &&& &&&'"
      ]
     },
     "execution_count": 45,
     "metadata": {},
     "output_type": "execute_result"
    }
   ],
   "source": [
    "def censor(string, lst, symbol):\n",
    "    wordlist = string.split()\n",
    "    for i in range(len(wordlist)):\n",
    "        if wordlist[i] in lst:\n",
    "            letters = list(word)\n",
    "            for j in range(len(letters)):\n",
    "                letters[j] = symbol\n",
    "            wordlist[i] = ''.join(letters)\n",
    "    return ' '.join(wordlist)\n",
    "    \n",
    "text = str(input(\"Enter a text to uncensor: \"))\n",
    "censoredWords = str(input(\"Enter the words to censor: \"))\n",
    "symbol = str(input(\"Enter the symbol to censor the words with: \"))\n",
    "censor(text, censoredWords, symbol)\n",
    "    "
   ]
  },
  {
   "cell_type": "markdown",
   "metadata": {},
   "source": [
    "### Problem 4"
   ]
  },
  {
   "cell_type": "code",
   "execution_count": 24,
   "metadata": {},
   "outputs": [
    {
     "name": "stdout",
     "output_type": "stream",
     "text": [
      "Enter a number: 1232\n",
      "1232 is Polydivisible number.\n"
     ]
    }
   ],
   "source": [
    "def is_polydivisible(n):\n",
    "    N = n\n",
    "    digits = [int(x) for x in str(n)]\n",
    "    \n",
    "    flag = True\n",
    "    n = digits[0]\n",
    "    \n",
    "    for i in range(1, len(digits)):\n",
    "        # n contains first i digits\n",
    "        n = n * 10 + digits[i]\n",
    "        \n",
    "        # n should be divisible by i\n",
    "        if (n % (i + 1) != 0):\n",
    "            flag = False\n",
    "            break\n",
    "\n",
    "    if (flag):\n",
    "        print(N, \"is Polydivisible number.\");\n",
    "    else:\n",
    "        print(N, \"is Not Polydivisible number.\")\n",
    "        \n",
    "        \n",
    "number = int(input(\"Enter a number: \"))\n",
    "is_polydivisible(number)"
   ]
  },
  {
   "cell_type": "markdown",
   "metadata": {},
   "source": [
    "### Problem 5"
   ]
  },
  {
   "cell_type": "code",
   "execution_count": 29,
   "metadata": {},
   "outputs": [
    {
     "name": "stdout",
     "output_type": "stream",
     "text": [
      "Enter the numbers: 1 3 7 2 5\n"
     ]
    },
    {
     "data": {
      "text/plain": [
       "17"
      ]
     },
     "execution_count": 29,
     "metadata": {},
     "output_type": "execute_result"
    }
   ],
   "source": [
    "def sum_primes(lst):\n",
    "    psum = 0\n",
    "    for num in lst:\n",
    "        if num!=1:  #To exclude 1\n",
    "            for i in range(2, int(num/2),1): #It is enough to check the divisibility upto the half of the number \n",
    "                if num % i == 0: #Checking the modulus of the number \n",
    "                    break\n",
    "                else:\n",
    "                    continue\n",
    "            else:\n",
    "                psum = psum + num   #sum of prime numbers\n",
    "    return psum\n",
    "\n",
    "lst = list(map(int, input(\"Enter the numbers: \").split()))\n",
    "sum_primes(lst)"
   ]
  }
 ],
 "metadata": {
  "kernelspec": {
   "display_name": "Python 3",
   "language": "python",
   "name": "python3"
  },
  "language_info": {
   "codemirror_mode": {
    "name": "ipython",
    "version": 3
   },
   "file_extension": ".py",
   "mimetype": "text/x-python",
   "name": "python",
   "nbconvert_exporter": "python",
   "pygments_lexer": "ipython3",
   "version": "3.8.5"
  }
 },
 "nbformat": 4,
 "nbformat_minor": 4
}
