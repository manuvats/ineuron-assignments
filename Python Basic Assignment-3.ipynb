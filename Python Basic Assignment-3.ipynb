{
 "cells": [
  {
   "cell_type": "markdown",
   "metadata": {},
   "source": [
    "# Python Basic Assignment - 3"
   ]
  },
  {
   "cell_type": "markdown",
   "metadata": {},
   "source": [
    "__1.__ Functions offer reusability of the code. Once a function is coded, we don't have to write the same code again and again. We can simply call the function to reuse the code."
   ]
  },
  {
   "cell_type": "markdown",
   "metadata": {},
   "source": [
    "__2.__ The code in a function runs when the function is called and not specified."
   ]
  },
  {
   "cell_type": "markdown",
   "metadata": {},
   "source": [
    "__3.__ def function_name():"
   ]
  },
  {
   "cell_type": "markdown",
   "metadata": {},
   "source": [
    "__4.__ So the difference between the function and function call is, a function is procedure to achieve a particular result while function call is using this function to achive that task."
   ]
  },
  {
   "cell_type": "markdown",
   "metadata": {},
   "source": [
    "__5.__ There is only one type of Global scopes in a Python program. This is where the variable is declared outside any function. This makes it usable by any function.\n",
    "To modify a global variable inside a function, we use the keyword __global__ before the variable to refer to the global variable.\n",
    "\n",
    "There are two types of Local scopes in a Python program. One is where a variable is declared inside a function. This variable can't be used outside this function.\n",
    "Another one is when a variable is declared inside a nested function. When the variable is declared in the inner function, it can't be accessed by the outer function. If a variable is declared in the outer function, it can be accessed by the inner function and be modified by using the keyword __nonlocal__"
   ]
  },
  {
   "cell_type": "markdown",
   "metadata": {},
   "source": [
    "__6.__ The variable y only exists while the function is being executed — which is called its __lifetime__. When the execution of the function terminates (returns), the local variables are destroyed."
   ]
  },
  {
   "cell_type": "markdown",
   "metadata": {},
   "source": [
    "__7.__ A return statement is used to end the execution of the function call and “returns” the result (value of the expression following the return keyword) to the caller. \n",
    "If the return statement is without any expression, then the special value None is returned."
   ]
  },
  {
   "cell_type": "markdown",
   "metadata": {},
   "source": [
    "__8.__ If there are no return statements, then it returns __None__."
   ]
  },
  {
   "cell_type": "markdown",
   "metadata": {},
   "source": [
    "__9.__ A function variable can refer to a global variable by using the keyword __global__. Following is an example-:"
   ]
  },
  {
   "cell_type": "code",
   "execution_count": 8,
   "metadata": {},
   "outputs": [
    {
     "name": "stdout",
     "output_type": "stream",
     "text": [
      "Hi\n"
     ]
    }
   ],
   "source": [
    "gvar = \"Hello\"\n",
    "def change_gvar():\n",
    "    global gvar\n",
    "    gvar = \"Hi\"\n",
    "\n",
    "change_gvar()\n",
    "print(gvar)"
   ]
  },
  {
   "cell_type": "markdown",
   "metadata": {},
   "source": [
    "__10.__ None is used to define a null value. It is not the same as an empty string, False, or a zero. It is a data type of the class NoneType object. "
   ]
  },
  {
   "cell_type": "markdown",
   "metadata": {},
   "source": [
    "__11.__ The import statement imports the areallyourpetsnamederic module (not a real Python module)."
   ]
  },
  {
   "cell_type": "markdown",
   "metadata": {},
   "source": [
    "__12.__ spam.bacon()"
   ]
  },
  {
   "cell_type": "markdown",
   "metadata": {},
   "source": [
    "__13.__ We can put the code section that might be causing the error in a try clause. This way if there is an error, instead of crashing the program it will display the error."
   ]
  },
  {
   "cell_type": "markdown",
   "metadata": {},
   "source": [
    "__14.__ The purpose of the __try__ clause is to execute the code which has posibility of some errors. If the code throws an error, the except block will show an error message, which may be customized by the coder instead of showing the error message from the system. "
   ]
  }
 ],
 "metadata": {
  "kernelspec": {
   "display_name": "Python 3",
   "language": "python",
   "name": "python3"
  },
  "language_info": {
   "codemirror_mode": {
    "name": "ipython",
    "version": 3
   },
   "file_extension": ".py",
   "mimetype": "text/x-python",
   "name": "python",
   "nbconvert_exporter": "python",
   "pygments_lexer": "ipython3",
   "version": "3.8.5"
  }
 },
 "nbformat": 4,
 "nbformat_minor": 4
}
