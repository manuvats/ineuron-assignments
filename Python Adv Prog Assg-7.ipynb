{
 "cells": [
  {
   "cell_type": "markdown",
   "metadata": {},
   "source": [
    "# Python Advance Programming Assignment - 7"
   ]
  },
  {
   "cell_type": "markdown",
   "metadata": {},
   "source": [
    "### Problem 1"
   ]
  },
  {
   "cell_type": "code",
   "execution_count": 20,
   "metadata": {},
   "outputs": [
    {
     "data": {
      "text/plain": [
       "5"
      ]
     },
     "execution_count": 20,
     "metadata": {},
     "output_type": "execute_result"
    }
   ],
   "source": [
    "import math\n",
    "def count_layers(matrix):\n",
    "    nrows = len(matrix)\n",
    "    ncols = len(matrix[0])\n",
    "    row_counter, mid_col= math.ceil(nrows/2), math.ceil(ncols/2) #Starting at the middle of the matrix\n",
    "    \n",
    "    layers = 1\n",
    "    while row_counter<nrows:\n",
    "        if matrix[row_counter-1][mid_col-1] != matrix[row_counter][mid_col-1]: #Compare the next row in the same column\n",
    "            layers = layers + 1  #If the item is different, add 1 to no. of layers\n",
    "        row_counter = row_counter + 1\n",
    "    return layers\n",
    "\n",
    "count_layers([\"AAAAAAAAAAA\", \n",
    "              \"AABBBBBBBAA\", \n",
    "              \"AABCCCCCBAA\", \n",
    "              \"AABCAAACBAA\", \n",
    "              \"AABCADACBAA\", \n",
    "              \"AAAAAAAAAAA\", \n",
    "              \"AABBBBBBBAA\", \n",
    "              \"AABCCCCCBAA\", \n",
    "              \"AABCAAACBAA\"])"
   ]
  },
  {
   "cell_type": "markdown",
   "metadata": {},
   "source": [
    "### Problem 2"
   ]
  },
  {
   "cell_type": "code",
   "execution_count": 22,
   "metadata": {},
   "outputs": [
    {
     "data": {
      "text/plain": [
       "{'Dancehall',\n",
       " 'Dub',\n",
       " 'Dubstep',\n",
       " 'Euro-Disco',\n",
       " 'Heavy Metal',\n",
       " 'Industrial',\n",
       " 'Minimal',\n",
       " 'Synth-pop',\n",
       " 'Techno'}"
      ]
     },
     "execution_count": 22,
     "metadata": {},
     "output_type": "execute_result"
    }
   ],
   "source": [
    "def unique_styles_extend(styles):\n",
    "    newlist=[]\n",
    "    for s in styles:\n",
    "        s = s.split(\",\")\n",
    "        newlist.extend(s)\n",
    "    return set(newlist) #Converting a list to set removes duplicates\n",
    "\n",
    "def unique_styles_listcomp(styles):\n",
    "    return set([s for ss in styles for s in ss.split(\",\")]) #Nested list comprehension\n",
    "\n",
    "unique_styles_extend([\"Dub,Dancehall\", \n",
    "                      \"Industrial,Heavy Metal\", \n",
    "                      \"Techno,Dubstep\", \n",
    "                      \"Synth-pop,Euro-Disco\", \n",
    "                      \"Industrial,Techno,Minimal\"])\n",
    "\n",
    "unique_styles_listcomp([\"Dub,Dancehall\", \n",
    "                      \"Industrial,Heavy Metal\", \n",
    "                      \"Techno,Dubstep\", \n",
    "                      \"Synth-pop,Euro-Disco\", \n",
    "                      \"Industrial,Techno,Minimal\"])"
   ]
  },
  {
   "cell_type": "markdown",
   "metadata": {},
   "source": [
    "### Problem 3"
   ]
  },
  {
   "cell_type": "code",
   "execution_count": 24,
   "metadata": {},
   "outputs": [
    {
     "name": "stdout",
     "output_type": "stream",
     "text": [
      "Enter a number to find: 34\n"
     ]
    },
    {
     "data": {
      "text/plain": [
       "'No'"
      ]
     },
     "execution_count": 24,
     "metadata": {},
     "output_type": "execute_result"
    }
   ],
   "source": [
    "#Recursive function for binary search\n",
    "def is_prime(lst, n):\n",
    "    \n",
    "    low = 0\n",
    "    high = len(lst)-1\n",
    "    mid=0\n",
    "    \n",
    "    if low <= high:\n",
    "        mid = (high + low)//2\n",
    "        \n",
    "        #If number is present at the middle itself\n",
    "        if lst[mid]==n:\n",
    "            return \"Yes\"\n",
    "        \n",
    "        #If element is smaller than mid, then it can only be present in left half of the list\n",
    "        elif lst[mid] > n:\n",
    "            lst = lst[low+1 : mid+1]\n",
    "            return is_prime(lst, n)\n",
    "        \n",
    "        #Else, it can only be present in right half of the list\n",
    "        else:\n",
    "            lst = lst[mid+1 : high+1]\n",
    "            return is_prime(lst, n)\n",
    "    \n",
    "    #Number is not present in the array\n",
    "    else: \n",
    "        return \"No\"\n",
    "    \n",
    "primes = [2,3,5,7,11,13,17,19,23,29,31,37,41,43,47,53,59,61,67,71,73,79,83,89,97]\n",
    "number = int(input(\"Enter a number to find: \"))\n",
    "\n",
    "is_prime(primes, number)"
   ]
  },
  {
   "cell_type": "markdown",
   "metadata": {},
   "source": [
    "### Problem 4"
   ]
  },
  {
   "cell_type": "code",
   "execution_count": 34,
   "metadata": {},
   "outputs": [
    {
     "name": "stdout",
     "output_type": "stream",
     "text": [
      "Enter the power: 2\n",
      "Enter the lower limit: 48\n",
      "Enter the higher limit: 70\n"
     ]
    },
    {
     "data": {
      "text/plain": [
       "2"
      ]
     },
     "execution_count": 34,
     "metadata": {},
     "output_type": "execute_result"
    }
   ],
   "source": [
    "import math\n",
    "def power_ranger(power, low, high):\n",
    "    low_plim = math.ceil(low**(1/power)) #Calculating power root of Low round up to next integer\n",
    "    high_plim = math.floor(high**(1/power)) #Calculating power root of High round down to last integer\n",
    "    lst = []\n",
    "    \n",
    "    for i in range(low_plim, high_plim+1):\n",
    "        lst.append((i)**power) \n",
    "    return len(lst)\n",
    "        \n",
    "power = int(input(\"Enter the power: \"))\n",
    "low = int(input(\"Enter the lower limit: \"))\n",
    "high = int(input(\"Enter the higher limit: \"))\n",
    "    \n",
    "power_ranger(power,low,high)"
   ]
  },
  {
   "cell_type": "markdown",
   "metadata": {},
   "source": [
    "### Problem 5"
   ]
  },
  {
   "cell_type": "code",
   "execution_count": 43,
   "metadata": {},
   "outputs": [
    {
     "name": "stdout",
     "output_type": "stream",
     "text": [
      "Enter a number: 34562\n"
     ]
    },
    {
     "data": {
      "text/plain": [
       "41976"
      ]
     },
     "execution_count": 43,
     "metadata": {},
     "output_type": "execute_result"
    }
   ],
   "source": [
    "def rearranged_difference(n):\n",
    "    digits = [int(x) for x in str(n)] # Split the number into digits\n",
    "    \n",
    "    digits.sort(reverse = True) # first arrange digits into desc order\n",
    "    nmax = int(\"\".join(map(str, digits))) # and assign to a variable\n",
    "    \n",
    "    digits.sort() # then arrange digits into asc order\n",
    "    nmin = int(\"\".join(map(str, digits))) # and assign to a variable\n",
    "    \n",
    "    return nmax - nmin\n",
    "\n",
    "number = int(input(\"Enter a number: \"))\n",
    "rearranged_difference(number)\n",
    "\n"
   ]
  }
 ],
 "metadata": {
  "kernelspec": {
   "display_name": "Python 3",
   "language": "python",
   "name": "python3"
  },
  "language_info": {
   "codemirror_mode": {
    "name": "ipython",
    "version": 3
   },
   "file_extension": ".py",
   "mimetype": "text/x-python",
   "name": "python",
   "nbconvert_exporter": "python",
   "pygments_lexer": "ipython3",
   "version": "3.8.5"
  }
 },
 "nbformat": 4,
 "nbformat_minor": 4
}
